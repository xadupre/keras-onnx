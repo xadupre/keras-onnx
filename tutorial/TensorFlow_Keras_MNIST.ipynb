{
  "nbformat": 4,
  "nbformat_minor": 0,
  "metadata": {
    "colab": {
      "name": "TensorFlow_Keras_MNIST.ipynb",
      "provenance": [],
      "collapsed_sections": [],
      "toc_visible": true
    },
    "kernelspec": {
      "name": "python3",
      "display_name": "Python 3"
    }
  },
  "cells": [
    {
      "cell_type": "markdown",
      "metadata": {
        "id": "v3YP5lGDptdj",
        "colab_type": "text"
      },
      "source": [
        "#Convert a Custom Model for MNIST Dataset to ONNX and Inference with ONNX Runtime\n",
        "\n",
        "This example performs a conversion of a 'hand-crafted' CNN for the MNIST dataset, loosely based on the lenet CNN. It creates a model in keras, evaluates it, converts it to ONNX format. Finnaly, it loads the created ONNX file to perform predictions and compare it againt keras' predictions. "
      ]
    },
    {
      "cell_type": "code",
      "metadata": {
        "id": "McVALi98usry",
        "colab_type": "code",
        "outputId": "d43e7bcb-4381-489f-b96c-8d0e2e9b8244",
        "colab": {
          "base_uri": "https://localhost:8080/",
          "height": 34
        }
      },
      "source": [
        "import sys\n",
        "import os\n",
        "import tensorflow as tf\n",
        "print(\"TensorFlow version is \"+tf.__version__)\n",
        "\n",
        "import matplotlib.pyplot as plt\n",
        "import numpy as np\n",
        "import pandas as pd\n",
        "import time"
      ],
      "execution_count": 12,
      "outputs": [
        {
          "output_type": "stream",
          "text": [
            "TensorFlow version is 2.2.0\n"
          ],
          "name": "stdout"
        }
      ]
    },
    {
      "cell_type": "markdown",
      "metadata": {
        "id": "NM4D1RxkS__x",
        "colab_type": "text"
      },
      "source": [
        "# Preparing the MNIST Dataset"
      ]
    },
    {
      "cell_type": "code",
      "metadata": {
        "id": "5UM_-1uGMlpo",
        "colab_type": "code",
        "outputId": "302d9b03-7eb5-4d3c-ffa1-00b745b11b0d",
        "colab": {
          "base_uri": "https://localhost:8080/",
          "height": 69
        }
      },
      "source": [
        "# Get MNIST dataset\n",
        "mnist = tf.keras.datasets.mnist\n",
        "# Load its data into training and test vectors\n",
        "(x_train, y_train),(x_test, y_test) = mnist.load_data()\n",
        "# Normalize the data\n",
        "x_train, x_test = x_train / 255.0, x_test / 255.0\n",
        "# Collect feature size info\n",
        "imgSize0=len(x_train[0])\n",
        "imgSize1=len(x_train[0][0])\n",
        "numPixels=imgSize0*imgSize1\n",
        "numTrainImages=len(x_train)\n",
        "featureShape=(1,imgSize0,imgSize1)\n",
        "\n",
        "print(\"Training dataset has \"+str(numTrainImages))\n",
        "print(\"Testing dataset has \"+str(len(x_test)))\n",
        "print(\"Feature shape is \"+str(featureShape))"
      ],
      "execution_count": 13,
      "outputs": [
        {
          "output_type": "stream",
          "text": [
            "Training dataset has 60000\n",
            "Testing dataset has 10000\n",
            "Feature shape is (1, 28, 28)\n"
          ],
          "name": "stdout"
        }
      ]
    },
    {
      "cell_type": "code",
      "metadata": {
        "id": "uoWTP9Du0TTc",
        "colab_type": "code",
        "outputId": "d7e44927-5235-4869-b424-462db3044c3a",
        "colab": {
          "base_uri": "https://localhost:8080/",
          "height": 363
        }
      },
      "source": [
        "train_labels_count = np.unique(y_train, return_counts=True)\n",
        "dataframe_train_labels = pd.DataFrame({'Label':train_labels_count[0], 'Count':train_labels_count[1]})\n",
        "dataframe_train_labels"
      ],
      "execution_count": 14,
      "outputs": [
        {
          "output_type": "execute_result",
          "data": {
            "text/html": [
              "<div>\n",
              "<style scoped>\n",
              "    .dataframe tbody tr th:only-of-type {\n",
              "        vertical-align: middle;\n",
              "    }\n",
              "\n",
              "    .dataframe tbody tr th {\n",
              "        vertical-align: top;\n",
              "    }\n",
              "\n",
              "    .dataframe thead th {\n",
              "        text-align: right;\n",
              "    }\n",
              "</style>\n",
              "<table border=\"1\" class=\"dataframe\">\n",
              "  <thead>\n",
              "    <tr style=\"text-align: right;\">\n",
              "      <th></th>\n",
              "      <th>Label</th>\n",
              "      <th>Count</th>\n",
              "    </tr>\n",
              "  </thead>\n",
              "  <tbody>\n",
              "    <tr>\n",
              "      <th>0</th>\n",
              "      <td>0</td>\n",
              "      <td>5923</td>\n",
              "    </tr>\n",
              "    <tr>\n",
              "      <th>1</th>\n",
              "      <td>1</td>\n",
              "      <td>6742</td>\n",
              "    </tr>\n",
              "    <tr>\n",
              "      <th>2</th>\n",
              "      <td>2</td>\n",
              "      <td>5958</td>\n",
              "    </tr>\n",
              "    <tr>\n",
              "      <th>3</th>\n",
              "      <td>3</td>\n",
              "      <td>6131</td>\n",
              "    </tr>\n",
              "    <tr>\n",
              "      <th>4</th>\n",
              "      <td>4</td>\n",
              "      <td>5842</td>\n",
              "    </tr>\n",
              "    <tr>\n",
              "      <th>5</th>\n",
              "      <td>5</td>\n",
              "      <td>5421</td>\n",
              "    </tr>\n",
              "    <tr>\n",
              "      <th>6</th>\n",
              "      <td>6</td>\n",
              "      <td>5918</td>\n",
              "    </tr>\n",
              "    <tr>\n",
              "      <th>7</th>\n",
              "      <td>7</td>\n",
              "      <td>6265</td>\n",
              "    </tr>\n",
              "    <tr>\n",
              "      <th>8</th>\n",
              "      <td>8</td>\n",
              "      <td>5851</td>\n",
              "    </tr>\n",
              "    <tr>\n",
              "      <th>9</th>\n",
              "      <td>9</td>\n",
              "      <td>5949</td>\n",
              "    </tr>\n",
              "  </tbody>\n",
              "</table>\n",
              "</div>"
            ],
            "text/plain": [
              "   Label  Count\n",
              "0      0   5923\n",
              "1      1   6742\n",
              "2      2   5958\n",
              "3      3   6131\n",
              "4      4   5842\n",
              "5      5   5421\n",
              "6      6   5918\n",
              "7      7   6265\n",
              "8      8   5851\n",
              "9      9   5949"
            ]
          },
          "metadata": {
            "tags": []
          },
          "execution_count": 14
        }
      ]
    },
    {
      "cell_type": "code",
      "metadata": {
        "id": "rY6mVyks1FsY",
        "colab_type": "code",
        "outputId": "448c6963-190c-40e0-901f-cabd4c118cd2",
        "colab": {
          "base_uri": "https://localhost:8080/",
          "height": 363
        }
      },
      "source": [
        "test_labels_count = np.unique(y_test, return_counts=True)\n",
        "dataframe_test_labels = pd.DataFrame({'Label':test_labels_count[0], 'Count':test_labels_count[1]})\n",
        "dataframe_test_labels"
      ],
      "execution_count": 15,
      "outputs": [
        {
          "output_type": "execute_result",
          "data": {
            "text/html": [
              "<div>\n",
              "<style scoped>\n",
              "    .dataframe tbody tr th:only-of-type {\n",
              "        vertical-align: middle;\n",
              "    }\n",
              "\n",
              "    .dataframe tbody tr th {\n",
              "        vertical-align: top;\n",
              "    }\n",
              "\n",
              "    .dataframe thead th {\n",
              "        text-align: right;\n",
              "    }\n",
              "</style>\n",
              "<table border=\"1\" class=\"dataframe\">\n",
              "  <thead>\n",
              "    <tr style=\"text-align: right;\">\n",
              "      <th></th>\n",
              "      <th>Label</th>\n",
              "      <th>Count</th>\n",
              "    </tr>\n",
              "  </thead>\n",
              "  <tbody>\n",
              "    <tr>\n",
              "      <th>0</th>\n",
              "      <td>0</td>\n",
              "      <td>980</td>\n",
              "    </tr>\n",
              "    <tr>\n",
              "      <th>1</th>\n",
              "      <td>1</td>\n",
              "      <td>1135</td>\n",
              "    </tr>\n",
              "    <tr>\n",
              "      <th>2</th>\n",
              "      <td>2</td>\n",
              "      <td>1032</td>\n",
              "    </tr>\n",
              "    <tr>\n",
              "      <th>3</th>\n",
              "      <td>3</td>\n",
              "      <td>1010</td>\n",
              "    </tr>\n",
              "    <tr>\n",
              "      <th>4</th>\n",
              "      <td>4</td>\n",
              "      <td>982</td>\n",
              "    </tr>\n",
              "    <tr>\n",
              "      <th>5</th>\n",
              "      <td>5</td>\n",
              "      <td>892</td>\n",
              "    </tr>\n",
              "    <tr>\n",
              "      <th>6</th>\n",
              "      <td>6</td>\n",
              "      <td>958</td>\n",
              "    </tr>\n",
              "    <tr>\n",
              "      <th>7</th>\n",
              "      <td>7</td>\n",
              "      <td>1028</td>\n",
              "    </tr>\n",
              "    <tr>\n",
              "      <th>8</th>\n",
              "      <td>8</td>\n",
              "      <td>974</td>\n",
              "    </tr>\n",
              "    <tr>\n",
              "      <th>9</th>\n",
              "      <td>9</td>\n",
              "      <td>1009</td>\n",
              "    </tr>\n",
              "  </tbody>\n",
              "</table>\n",
              "</div>"
            ],
            "text/plain": [
              "   Label  Count\n",
              "0      0    980\n",
              "1      1   1135\n",
              "2      2   1032\n",
              "3      3   1010\n",
              "4      4    982\n",
              "5      5    892\n",
              "6      6    958\n",
              "7      7   1028\n",
              "8      8    974\n",
              "9      9   1009"
            ]
          },
          "metadata": {
            "tags": []
          },
          "execution_count": 15
        }
      ]
    },
    {
      "cell_type": "markdown",
      "metadata": {
        "id": "biAtRdVyTHwd",
        "colab_type": "text"
      },
      "source": [
        "# Building or Loading the CNN Model with Keras\n",
        "\n",
        "If you are building a model in keras to convert it to ONNX, it's realy important that the first layer defines the ***input_shape***, otherwise you will see errors in the ONNX conversion. See [Issue #493](https://github.com/onnx/keras-onnx/issues/493) for more information.\n"
      ]
    },
    {
      "cell_type": "code",
      "metadata": {
        "id": "1NO4CNgDBuNa",
        "colab_type": "code",
        "outputId": "13729bc4-c7eb-4795-b8e4-ddc1aaf12cf2",
        "colab": {
          "base_uri": "https://localhost:8080/",
          "height": 278
        }
      },
      "source": [
        "# Clearup everything before running\n",
        "tf.keras.backend.clear_session()\n",
        "\n",
        "print ('creating a new model')\n",
        "# Clearup everything before running\n",
        "tf.keras.backend.clear_session()\n",
        "# Create model\n",
        "model = tf.keras.models.Sequential()\n",
        "# Add layers\n",
        "# The first layer MUST have input_shape. See the observation above.\n",
        "model.add(tf.keras.layers.Flatten(input_shape=(28, 28, 1)))\n",
        "model.add(tf.keras.layers.Dense(8, activation='relu'))\n",
        "model.add(tf.keras.layers.Dense(10, activation='softmax'))\n",
        "\n",
        "# Build model and print summary\n",
        "model.build(input_shape=featureShape)\n",
        "model.summary()"
      ],
      "execution_count": 16,
      "outputs": [
        {
          "output_type": "stream",
          "text": [
            "creating a new model\n",
            "Model: \"sequential\"\n",
            "_________________________________________________________________\n",
            "Layer (type)                 Output Shape              Param #   \n",
            "=================================================================\n",
            "flatten (Flatten)            (None, 784)               0         \n",
            "_________________________________________________________________\n",
            "dense (Dense)                (None, 8)                 6280      \n",
            "_________________________________________________________________\n",
            "dense_1 (Dense)              (None, 10)                90        \n",
            "=================================================================\n",
            "Total params: 6,370\n",
            "Trainable params: 6,370\n",
            "Non-trainable params: 0\n",
            "_________________________________________________________________\n"
          ],
          "name": "stdout"
        }
      ]
    },
    {
      "cell_type": "code",
      "metadata": {
        "id": "Yd3oPpYaxNen",
        "colab_type": "code",
        "outputId": "9e3e50f7-d146-416e-a53c-024804eddd7e",
        "colab": {
          "base_uri": "https://localhost:8080/",
          "height": 938
        }
      },
      "source": [
        "model.compile(optimizer='adam', loss='sparse_categorical_crossentropy', metrics=['accuracy'])\n",
        "# Train\n",
        "print(\"Training Model\")\n",
        "# increase the number of epochs if you wish better accuracy\n",
        "history = model.fit(x_train, y_train, epochs=10)\n",
        "plt.plot(history.history[\"loss\"], color='r')\n",
        "plt.title(\"Loss\")\n",
        "plt.xlabel(\"Epoch\")\n",
        "plt.show()\n",
        "plt.plot(history.history[\"accuracy\"], color='b')\n",
        "plt.title(\"Accuracy\")\n",
        "plt.xlabel(\"Epoch\")\n",
        "plt.show()"
      ],
      "execution_count": 17,
      "outputs": [
        {
          "output_type": "stream",
          "text": [
            "Training Model\n",
            "Epoch 1/10\n",
            "1875/1875 [==============================] - 2s 1ms/step - loss: 0.5394 - accuracy: 0.8426\n",
            "Epoch 2/10\n",
            "1875/1875 [==============================] - 2s 1ms/step - loss: 0.3159 - accuracy: 0.9092\n",
            "Epoch 3/10\n",
            "1875/1875 [==============================] - 2s 1ms/step - loss: 0.2891 - accuracy: 0.9165\n",
            "Epoch 4/10\n",
            "1875/1875 [==============================] - 2s 1ms/step - loss: 0.2713 - accuracy: 0.9224\n",
            "Epoch 5/10\n",
            "1875/1875 [==============================] - 2s 1ms/step - loss: 0.2592 - accuracy: 0.9263\n",
            "Epoch 6/10\n",
            "1875/1875 [==============================] - 2s 1ms/step - loss: 0.2510 - accuracy: 0.9285\n",
            "Epoch 7/10\n",
            "1875/1875 [==============================] - 2s 1ms/step - loss: 0.2441 - accuracy: 0.9310\n",
            "Epoch 8/10\n",
            "1875/1875 [==============================] - 2s 1ms/step - loss: 0.2391 - accuracy: 0.9325\n",
            "Epoch 9/10\n",
            "1875/1875 [==============================] - 2s 1ms/step - loss: 0.2343 - accuracy: 0.9337\n",
            "Epoch 10/10\n",
            "1875/1875 [==============================] - 2s 1ms/step - loss: 0.2305 - accuracy: 0.9346\n"
          ],
          "name": "stdout"
        },
        {
          "output_type": "display_data",
          "data": {
            "image/png": "[encoded data removed]",
            "text/plain": [
              "<Figure size 432x288 with 1 Axes>"
            ]
          },
          "metadata": {
            "tags": [],
            "needs_background": "light"
          }
        },
        {
          "output_type": "display_data",
          "data": {
            "image/png": "[encoded data removed]",
            "text/plain": [
              "<Figure size 432x288 with 1 Axes>"
            ]
          },
          "metadata": {
            "tags": [],
            "needs_background": "light"
          }
        }
      ]
    },
    {
      "cell_type": "markdown",
      "metadata": {
        "id": "RKYqwyTWSgd7",
        "colab_type": "text"
      },
      "source": [
        "# Evaluate the Keras' Model Performance\n",
        "\n",
        "\n"
      ]
    },
    {
      "cell_type": "code",
      "metadata": {
        "id": "xT6ZDhqRxUCj",
        "colab_type": "code",
        "outputId": "5146b331-0433-42ce-e3c4-6403e2a59628",
        "colab": {
          "base_uri": "https://localhost:8080/",
          "height": 69
        }
      },
      "source": [
        "keras_test_loss, keras_test_acc = model.evaluate(x_test, y_test)\n",
        "\n",
        "print('Test loss:', keras_test_loss)\n",
        "print('Test accuracy:', keras_test_acc)"
      ],
      "execution_count": 18,
      "outputs": [
        {
          "output_type": "stream",
          "text": [
            "313/313 [==============================] - 0s 1ms/step - loss: 0.2376 - accuracy: 0.9352\n",
            "Test loss: 0.23761823773384094\n",
            "Test accuracy: 0.9351999759674072\n"
          ],
          "name": "stdout"
        }
      ]
    },
    {
      "cell_type": "code",
      "metadata": {
        "id": "5723ZvJV1Iy4",
        "colab_type": "code",
        "colab": {}
      },
      "source": [
        "# if the model is just created, them I want to update saved model\n",
        "model.save('./mnist-model.h5') "
      ],
      "execution_count": 0,
      "outputs": []
    },
    {
      "cell_type": "code",
      "metadata": {
        "id": "aAWzx8T8m3sC",
        "colab_type": "code",
        "outputId": "66179008-93c4-416d-f9fb-9ddf2ae382d3",
        "colab": {
          "base_uri": "https://localhost:8080/",
          "height": 281
        }
      },
      "source": [
        "# get a random image index from the test set\n",
        "image_index = int(np.random.randint(0, x_test.shape[0], size=1)[0])\n",
        "expected_label = y_test[image_index]\n",
        "digit_image = x_test[image_index]\n",
        "# and plot it\n",
        "plt.title('Example %d. Label: %d' % (image_index, expected_label))\n",
        "plt.imshow(digit_image, cmap='Greys')\n",
        "plt.show()"
      ],
      "execution_count": 20,
      "outputs": [
        {
          "output_type": "display_data",
          "data": {
            "image/png": "[encoded data removed]",
            "text/plain": [
              "<Figure size 432x288 with 1 Axes>"
            ]
          },
          "metadata": {
            "tags": [],
            "needs_background": "light"
          }
        }
      ]
    },
    {
      "cell_type": "code",
      "metadata": {
        "id": "50FQQAwQhQYN",
        "colab_type": "code",
        "colab": {}
      },
      "source": [
        "# uncomment the following two lines to save sample images with digits\n",
        "#pil_img = tf.keras.preprocessing.image.array_to_img(digit_image.reshape((imgSize0,imgSize1,1)))\n",
        "#pil_img.save('./str(expected_label)+'.bmp')"
      ],
      "execution_count": 0,
      "outputs": []
    },
    {
      "cell_type": "code",
      "metadata": {
        "id": "LSOMagvap7W5",
        "colab_type": "code",
        "outputId": "7d601b1d-3c05-4793-88b5-d8c8dde8c463",
        "colab": {
          "base_uri": "https://localhost:8080/",
          "height": 104
        }
      },
      "source": [
        "# reshape the image for inference/prediction\n",
        "digit_image = digit_image.reshape(1, imgSize0, imgSize1, 1)\n",
        "# repeat few times to take the average execution time\n",
        "loop_count = 10\n",
        "\n",
        "start_time = time.time()\n",
        "for i in range(loop_count):\n",
        "    prediction = model.predict(digit_image)\n",
        "print(\"Keras inferences with %s second in average\" %((time.time() - start_time) / loop_count))\n",
        "\n",
        "print(prediction)\n",
        "predicted_label = prediction.argmax()\n",
        "print('Predicted value:', predicted_label)\n",
        "if (expected_label == predicted_label):\n",
        "  print('Correct prediction !')\n",
        "else:\n",
        "  print('Wrong prediction !')\n",
        "\n",
        "# one suggestion is to place this and the previous cell inside a for loop to perform several inferences"
      ],
      "execution_count": 22,
      "outputs": [
        {
          "output_type": "stream",
          "text": [
            "Keras inferences with 0.032799935340881346 second in average\n",
            "[[5.1793786e-06 1.3430116e-03 1.7588119e-03 2.7343312e-03 7.1471358e-09\n",
            "  5.0697732e-03 1.4563107e-06 2.6127812e-04 9.8847544e-01 3.5068262e-04]]\n",
            "Predicted value: 8\n",
            "Correct prediction !\n"
          ],
          "name": "stdout"
        }
      ]
    },
    {
      "cell_type": "markdown",
      "metadata": {
        "id": "TNJQ2AtWhGtI",
        "colab_type": "text"
      },
      "source": [
        "# Conversion from Keras to ONNX\n",
        "\n",
        "Now we know that the keras model is working, let's **convert it to ONNX** format and reevaluate the model again."
      ]
    },
    {
      "cell_type": "code",
      "metadata": {
        "id": "jmu8CmQBEs31",
        "colab_type": "code",
        "outputId": "42234039-6e46-4901-f66b-7a81a913395b",
        "colab": {
          "base_uri": "https://localhost:8080/",
          "height": 52
        }
      },
      "source": [
        "# let's install the onnx packages from the source\n",
        "!pip install --quiet -U onnxruntime\n",
        "!pip install --quiet -U git+https://github.com/microsoft/onnxconverter-common\n",
        "!pip install --quiet -U git+https://github.com/onnx/keras-onnx"
      ],
      "execution_count": 23,
      "outputs": [
        {
          "output_type": "stream",
          "text": [
            "  Building wheel for onnxconverter-common (setup.py) ... \u001b[?25l\u001b[?25hdone\n",
            "  Building wheel for keras2onnx (setup.py) ... \u001b[?25l\u001b[?25hdone\n"
          ],
          "name": "stdout"
        }
      ]
    },
    {
      "cell_type": "markdown",
      "metadata": {
        "id": "SR5_5qAoFW8d",
        "colab_type": "text"
      },
      "source": [
        "Now we use Keras2onnx to convert the model to ONNX format and save it."
      ]
    },
    {
      "cell_type": "code",
      "metadata": {
        "id": "V3t9FZP1hERO",
        "colab_type": "code",
        "outputId": "54da3de0-07a7-4938-d2c9-5f93702cae84",
        "colab": {
          "base_uri": "https://localhost:8080/",
          "height": 781
        }
      },
      "source": [
        "import keras2onnx\n",
        "print(\"keras2onnx version is \"+keras2onnx.__version__)\n",
        "# convert to onnx model\n",
        "onnx_model = keras2onnx.convert_keras(model, 'mnist-onnx', debug_mode=1)\n",
        "output_model_path = \"./mnist-model.onnx\"\n",
        "# and save the model in ONNX format\n",
        "keras2onnx.save_model(onnx_model, output_model_path)"
      ],
      "execution_count": 24,
      "outputs": [
        {
          "output_type": "stream",
          "text": [
            "tf executing eager_mode: True\n",
            "tf.keras model eager_mode: False\n",
            "Processing a keras layer - (dense_1: <class 'tensorflow.python.keras.layers.core.Dense'>)\n",
            "\toutput: dense_1/Identity:0\n",
            "\tinput : dense/Identity:0\n",
            "Processing a keras layer - (dense: <class 'tensorflow.python.keras.layers.core.Dense'>)\n",
            "\toutput: dense/Identity:0\n",
            "\tinput : flatten/Identity:0\n",
            "Processing a keras layer - (flatten: <class 'tensorflow.python.keras.layers.core.Flatten'>)\n",
            "\toutput: flatten/Identity:0\n",
            "\tinput : flatten_input:0\n",
            "var: flatten_input\n",
            "var: flatten_input:0\n",
            "var: flatten_input:01\n",
            "var: flatten/Identity:0\n",
            "var: dense/Identity:0\n",
            "var: dense_1/Identity:01\n",
            "var: dense_1/Identity:0\n",
            "var: dense_1\n",
            "Converting the operator (Identity): Identity\n",
            "Converting the operator (Identity1): Identity\n",
            "Converting the operator (Identity2): Identity\n",
            "Converting the operator (dense_1): <class 'tensorflow.python.keras.layers.core.Dense'>\n",
            "Converting the operator (dense): <class 'tensorflow.python.keras.layers.core.Dense'>\n",
            "Converting the operator (flatten): <class 'tensorflow.python.keras.layers.core.Flatten'>\n",
            "Converting the operator (flatten/Const): Const\n",
            "Converting the operator (Identity3): Identity\n",
            "The maximum opset needed by this model is only 11.\n"
          ],
          "name": "stderr"
        },
        {
          "output_type": "stream",
          "text": [
            "keras2onnx version is 1.7.0\n",
            "Model: \"sequential\"\n",
            "_________________________________________________________________\n",
            "Layer (type)                 Output Shape              Param #   \n",
            "=================================================================\n",
            "flatten (Flatten)            (None, 784)               0         \n",
            "_________________________________________________________________\n",
            "dense (Dense)                (None, 8)                 6280      \n",
            "_________________________________________________________________\n",
            "dense_1 (Dense)              (None, 10)                90        \n",
            "=================================================================\n",
            "Total params: 6,370\n",
            "Trainable params: 6,370\n",
            "Non-trainable params: 0\n",
            "_________________________________________________________________\n",
            "None\n"
          ],
          "name": "stdout"
        }
      ]
    },
    {
      "cell_type": "markdown",
      "metadata": {
        "id": "tmMT0GILGT4w",
        "colab_type": "text"
      },
      "source": [
        "# Evaluate the ONNX's Model Performance\n",
        "\n",
        "Now let's reevaluate the model read from the ONNX format to see if it is working."
      ]
    },
    {
      "cell_type": "code",
      "metadata": {
        "id": "Q_ntfvpoGStw",
        "colab_type": "code",
        "colab": {}
      },
      "source": [
        "import onnxruntime\n",
        "\n",
        "sess_options = onnxruntime.SessionOptions()\n",
        "sess = onnxruntime.InferenceSession(output_model_path, sess_options)\n",
        "data = [digit_image.astype(np.float32)]\n",
        "input_names = sess.get_inputs()\n",
        "feed = dict([(input.name, data[n]) for n, input in enumerate(sess.get_inputs())])"
      ],
      "execution_count": 0,
      "outputs": []
    },
    {
      "cell_type": "code",
      "metadata": {
        "id": "VMqgCu-nJZ6P",
        "colab_type": "code",
        "outputId": "b0bd2ca3-6f67-40c3-d01b-976dd7ad3dd5",
        "colab": {
          "base_uri": "https://localhost:8080/",
          "height": 86
        }
      },
      "source": [
        "start_time = time.time()\n",
        "for i in range(loop_count):\n",
        "    onnx_predicted_label = sess.run(None, feed)[0].argmax()\n",
        "print(\"ONNX inferences with %s second in average\" %((time.time() - start_time) / loop_count))\n",
        "\n",
        "print('ONNX predicted value:', onnx_predicted_label)\n",
        "if (expected_label == onnx_predicted_label):\n",
        "  print('Correct prediction !')\n",
        "else:\n",
        "  print('Wrong prediction !')\n",
        "\n",
        "if (predicted_label == onnx_predicted_label):\n",
        "  print(\"The ONNX's and keras' prediction are matching !\")\n",
        "else:\n",
        "  print(\"The ONNX's and keras' prediction does not match !\")\n"
      ],
      "execution_count": 26,
      "outputs": [
        {
          "output_type": "stream",
          "text": [
            "ONNX inferences with 0.0009166479110717773 second in average\n",
            "ONNX predicted value: 8\n",
            "Correct prediction !\n",
            "The ONNX's and keras' prediction are matching !\n"
          ],
          "name": "stdout"
        }
      ]
    }
  ]
}